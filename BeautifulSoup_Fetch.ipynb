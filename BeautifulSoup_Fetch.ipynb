{
  "nbformat": 4,
  "nbformat_minor": 0,
  "metadata": {
    "colab": {
      "provenance": [],
      "authorship_tag": "ABX9TyPahAZRAxO63/BkNRdQe8h1",
      "include_colab_link": true
    },
    "kernelspec": {
      "name": "python3",
      "display_name": "Python 3"
    },
    "language_info": {
      "name": "python"
    }
  },
  "cells": [
    {
      "cell_type": "markdown",
      "metadata": {
        "id": "view-in-github",
        "colab_type": "text"
      },
      "source": [
        "<a href=\"https://colab.research.google.com/github/ayjulian/LawGPT/blob/main/BeautifulSoup_Fetch.ipynb\" target=\"_parent\"><img src=\"https://colab.research.google.com/assets/colab-badge.svg\" alt=\"Open In Colab\"/></a>"
      ]
    },
    {
      "cell_type": "code",
      "execution_count": 1,
      "metadata": {
        "colab": {
          "base_uri": "https://localhost:8080/"
        },
        "id": "5_ajiPiJySU2",
        "outputId": "6f839453-31e6-4ad7-f90e-a32132421280"
      },
      "outputs": [
        {
          "output_type": "stream",
          "name": "stdout",
          "text": [
            "Looking in indexes: https://pypi.org/simple, https://us-python.pkg.dev/colab-wheels/public/simple/\n",
            "Requirement already satisfied: beautifulsoup4 in /usr/local/lib/python3.9/dist-packages (4.11.2)\n",
            "Requirement already satisfied: soupsieve>1.2 in /usr/local/lib/python3.9/dist-packages (from beautifulsoup4) (2.4.1)\n"
          ]
        }
      ],
      "source": [
        "! pip install beautifulsoup4"
      ]
    },
    {
      "cell_type": "code",
      "source": [
        "import requests\n",
        "from bs4 import BeautifulSoup\n",
        "url = 'https://legalref.judiciary.hk/lrs/common/ju/ju_body.jsp?DIS=152077'\n",
        "web = requests.get(url)\n",
        "soup = BeautifulSoup(web.text, \"html.parser\")  \n",
        "# print(soup.prettify)\n",
        "para = soup('p')\n",
        "\n",
        "for i in para:\n",
        "  print(i.text)\n",
        "\n"
      ],
      "metadata": {
        "colab": {
          "base_uri": "https://localhost:8080/"
        },
        "id": "_Uc6Xv13yxgv",
        "outputId": "4cdbea2e-3b91-4c61-d584-b79b68dd0a21"
      },
      "execution_count": 83,
      "outputs": [
        {
          "output_type": "stream",
          "name": "stdout",
          "text": [
            "CAMP 335/2021, [2023] HKCA 558\n",
            "On Appeal From [2022] HKCA 1315\n",
            " \n",
            "IN THE HIGH COURT OF THE\n",
            "HONG KONG SPECIAL ADMINISTRATIVE REGION\n",
            "COURT OF APPEAL\n",
            "MISCELLANEOUS PROCEEDINGS NO 335 OF 2021\n",
            "(ON AN INTENDED APPEAL FROM HCAL NO 2604 OF 2018)\n",
            "_______________\n",
            "_______________\n",
            " \n",
            "_______________\n",
            "J U D G M E N T\n",
            "_______________\n",
            "Hon Au JA (giving the Judgment of the Court):\n",
            "1.  On 13 October 2022, the applicants filed a Notice of Motion together with a supporting affirmation to apply for leave to appeal to the Court of Final Appeal out of time against this Court’s judgment of 8 September 2022 (“the Judgment”) ([2022] HKCA 1315). In the Judgment, we dismissed the applicant’s reapplication for extension of time to appeal against the decision of Deputy High Court Judge KW Lung (“the Deputy Judge”) dated 22 April 2021, by which the Deputy Judge refused their application for leave to apply for judicial review ([2021] HKCFI 1036).\n",
            "2.  The facts and issues in the appeal, as well as this Court’s reasons for dismissing it, are set out in the Judgment.  We will not repeat them here.  After reviewing the Notice of Motion, we see no reason to deviate from the usual practice to consider this application on paper pursuant to paragraph 3 of Practice Direction 2.1.\n",
            "3.  Section 22(1)(b) of the Hong Kong Court of Final Appeal Ordinance, Cap 484 (“the HKCFAO”) provides that an appeal shall lie to the Court of Final Appeal at the discretion of this Court or the Court of Final Appeal if the question involved in the appeal is one which, by reason of its great general or public importance, or otherwise, ought to be submitted to the Court of Final Appeal for decision.\n",
            "4.  Further, pursuant to section 24(2) of the HKCFAO, the application should be made within 28 days from the date of the judgment to be appealed from.  Thus, the deadline for the applicant to seek leave to appeal to the Court of Final Appeal against the Judgment fell on 6 October 2022.  The applicants were therefore late for a week in making their application for leave to appeal to the Court of Final Appeal.\n",
            "5.  As the applicants did not apply for leave to appeal to the Court of Final Appeal within time, the Court has a discretion to extend time under section 24(5) of the HKCFAO only if good and sufficient grounds are shown by the applicants: see Re Imran Muhammad [2021] HKCA 482 at [9] and the authorities cited therein.  In deciding whether there are such good grounds, the Court is entitled to take into account (a) the length of the delay; (b) the reasons for the delay; (c) the chances of the appeal succeeding if an extension of time is granted; and (d) the degree of prejudice to the respondent if the application is granted: Begum Jahanara v Ian Candy, Esq & Another [2021] HKCA 83 at [4] and the authorities cited therein.\n",
            "6.  In the Notice of Motion, the applicants stated:\n",
            "“I would like to inform Court of Final Appeal. There are some error of my decision maker authorities. I am disagree with the decision made by the Director of Immigration as well the Torture Claim Appeal Board. I do not think my case has been determined fairly. There is no such investigation in my claim by authorities. It’s towards to my and my son life still danger in my home land.” (sic)\n",
            "7.  In their supporting affirmation, the applicants only contended:\n",
            "“Affirmation for leave to apply time extension for my Notice of Motion against the order of High Court on 8 September 2022. I did not aware of my deadline to file my Notice of Motion.” (sic)\n",
            "8.  Pursuant to Practice Direction 2.1, the applicants lodged their written submissions in support of their present application on 27 October 2022.  In those submissions, they contended that they disagree with the Director and the Board as their case had not been determined fairly.  They asserted that there should have been a proper and fair mechanism that allowed unrepresented litigants to understand more about their claims.  They further asserted that the authorities should take into account that there had been real procedural unfairness throughout the case and that they had not been fully informed of their rights and given the opportunity to be heard with such assistance.  The applicants further submitted that the Board was in breach of procedural fairness and had unlawfully fettered his discretion by refusing their appeal on the grounds that they did not satisfy the requirements and that the Board’s Decision refusing their appeal was unreasonable or irrational in the public law sense or was tainted with procedural errors or unfairness.\n",
            "9.  Although the applicant’s delay of one week is not insubstantial, for present purpose, we will focus on the merits of their application.  In our view, their intended appeal has no merit at all.\n",
            "10.  At the outset, it is noted that the matters raised in their Notice of Motion, supporting affirmation and written submissions were essentially new assertions and not argued at first instance or on appeal.  They also did not explain why those arguments were not raised previously.  It is not the practice of the Court of Appeal to grant leave to appeal on new points that were not canvassed previously before it; nor is it the practice of the Court of Final Appeal to grant leave on new fact-sensitive points not argued in the Court of Appeal: see Re Orense Marian Masangkay [2022] HKCA 33 at [7] and Re Dandiwal Sandeep Singh [2021] HKCA 870 at [7].  As such, their grounds would not be entertained and on this basis alone, their intended appeal must fail.\n",
            "11.  Further, their complaints are vague and bare without any specific particulars.  More importantly, their complaints mainly focused on the decisions of the Director and the Board and did not identify with specific particulars how this Court had erred in the Judgment.  Plainly, they are not proper grounds of appeal.\n",
            "12.  In any event, general assertions of their fear if refouled do not constitute proper grounds of appeal: Re Saldua Dorothy Trifalgar [2022] HKCA 627 at [6].  High standards of fairness also do not entail free legal representation at all stages of the proceedings or interpretation service being made available at any time the applicants desire: Barroga Escolastica Tejero [2021] HKCA 279 at [3].  Accordingly, their contentions are wholly untenable.\n",
            "13.  Even considering the applicants’ case at its highest, their allegations are fact-specific and do not relate to any question of great general or public importance.\n",
            "14.  Accordingly, the applicants have failed to identify any question of great general or public importance, as required by section 22(1)(b) of the HKCFAO.  We also do not see any basis for granting leave on the “or otherwise” limb under section 22(1)(b) of the HKCFAO.\n",
            "15.  For these reasons, the applicants’ intended appeal has no merit and it will be futile to grant them extension of time to pursue a hopeless appeal.  Accordingly, the Notice of Motion filed is dismissed.\n",
            " \n",
            " \n",
            "                                           \n",
            " \n"
          ]
        }
      ]
    }
  ]
}